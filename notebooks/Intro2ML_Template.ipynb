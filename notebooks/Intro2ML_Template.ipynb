{
 "nbformat": 4,
 "nbformat_minor": 0,
 "metadata": {
  "colab": {
   "name": "Intro2ML_Template.ipynb",
   "provenance": [],
   "collapsed_sections": []
  },
  "kernelspec": {
   "name": "python3",
   "display_name": "Python 3"
  },
  "accelerator": "GPU",
  "pycharm": {
   "stem_cell": {
    "cell_type": "raw",
    "source": [],
    "metadata": {
     "collapsed": false
    }
   }
  }
 },
 "cells": [
  {
   "cell_type": "markdown",
   "metadata": {
    "id": "dF0copX0ECwY",
    "colab_type": "text"
   },
   "source": [
    "# Introduction to Machine Learning\n",
    "---\n",
    "\n",
    "This notebook is supposed to serve as a guidance and sandbox for the projects forming the practical part of the module Introduction to Machine Learning 2019 @ ETHZ.\n",
    "\n",
    "---\n"
   ]
  },
  {
   "cell_type": "markdown",
   "metadata": {
    "id": "YTGACEsDir8B",
    "colab_type": "text"
   },
   "source": [
    "## Environmental Set-Up\n",
    "\n",
    "Hereinafter the required libraries are loaded."
   ]
  },
  {
   "cell_type": "code",
   "metadata": {
    "id": "tpfh1zCwD9ie",
    "colab_type": "code",
    "colab": {}
   },
   "source": [
    "import pandas as pd\n",
    "import numpy as np\n",
    "import seaborn as sn\n",
    "import sklearn as sl\n",
    "import datetime\n",
    "import matplotlib.pyplot as plt\n",
    "from sklearn.datasets import load_wine\n",
    "from sklearn import svm\n",
    "from sklearn.model_selection import train_test_split\n",
    "from sklearn.pipeline import make_pipeline\n",
    "from sklearn.model_selection import ShuffleSplit\n",
    "from sklearn import preprocessing\n",
    "from sklearn.model_selection import cross_val_score\n",
    "from sklearn.model_selection import GridSearchCV\n",
    "from sklearn.pipeline import Pipeline\n",
    "from sklearn.linear_model import LinearRegression\n",
    "\n",
    "%matplotlib inline\n",
    "sn.set_context('notebook')\n",
    "%config InlineBackend.figure_format = 'retina'"
   ],
   "execution_count": 0,
   "outputs": []
  },
  {
   "cell_type": "markdown",
   "metadata": {
    "id": "aY8_kEfyFHzc",
    "colab_type": "text"
   },
   "source": [
    "If the required packages is not one of the pre-installed of Google Collab, bash commands can be run with a preceding \"!\" to install those:"
   ]
  },
  {
   "cell_type": "code",
   "metadata": {
    "id": "GkgpMc6rFgoS",
    "colab_type": "code",
    "colab": {}
   },
   "source": [
    "# !pip install pandas\n",
    "\n",
    "# !apt-get install pandas"
   ],
   "execution_count": 0,
   "outputs": []
  },
  {
   "cell_type": "markdown",
   "metadata": {
    "id": "VvSSDj_uEqJi",
    "colab_type": "text"
   },
   "source": [
    "---\n",
    "\n",
    "## Load in the data\n",
    "\n",
    "The following upload UI can be used to upload data files to the environment. Note that those can be after the upload is complete be accessed via the respective filename.\n",
    "\n",
    "If the sizes of the files exceed the disk capacity indicated in the top right corner. Google Collab usually automatically allocates more disk space. If this might not be the case, one can edit the run time using the tab \"Runtime\" and allocate additional GPU or TPU, which will also upgrade the disk space to 300GB at the same time.\n",
    "\n",
    "GPU or TPU should be on the other hand only used if required, as the allocated size depends on the number of user currently accessing the Google Cloud Infrastructure."
   ]
  },
  {
   "cell_type": "code",
   "metadata": {
    "id": "aB-sY89zEwV1",
    "colab_type": "code",
    "outputId": "8c08e9c5-4a8f-4758-c3ce-1bd699f80d5d",
    "executionInfo": {
     "status": "ok",
     "timestamp": 1551105595635,
     "user_tz": -60,
     "elapsed": 48125,
     "user": {
      "displayName": "Daniel Paysan",
      "photoUrl": "https://lh4.googleusercontent.com/-HjRiH1Pwbu0/AAAAAAAAAAI/AAAAAAAAAA8/hD4qoVYmxLY/s64/photo.jpg",
      "userId": "00174475314057917185"
     }
    },
    "colab": {
     "resources": {
      "http://localhost:8080/nbextensions/google.colab/files.js": {
       "data": "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",
       "ok": true,
       "headers": [
        [
         "content-type",
         "application/javascript"
        ]
       ],
       "status": 200,
       "status_text": ""
      }
     },
     "base_uri": "https://localhost:8080/",
     "height": 193
    }
   },
   "source": [
    "from google.colab import files\n",
    "\n",
    "uploaded = files.upload()\n",
    "\n",
    "for fn in uploaded.keys():\n",
    "  print('User uploaded file \"{name}\" with length {length} bytes'.format(\n",
    "      name=fn, length=len(uploaded[fn])))"
   ],
   "execution_count": 0,
   "outputs": []
  },
  {
   "cell_type": "markdown",
   "metadata": {
    "id": "WOX9t71nHRnb",
    "colab_type": "text"
   },
   "source": [
    "---\n",
    "## Example Workflow\n",
    "---\n",
    "\n",
    "### Exploratory Data Analysis\n",
    "\n",
    "Before algorithms are applied, one can try to visualize the data or any lower-dimensional space representations.\n",
    "In the following an example is given using a sample data set from the sklearn package. This is the wine data set consisting of 13 real-valued features and divided into 3 classes (\"target\").\n",
    "\n",
    "First the data set is loaded."
   ]
  },
  {
   "cell_type": "code",
   "metadata": {
    "id": "ihYbOpweIY58",
    "colab_type": "code",
    "outputId": "a2fafb26-d998-4f50-84dc-179ebeb0d664",
    "executionInfo": {
     "status": "ok",
     "timestamp": 1551105595637,
     "user_tz": -60,
     "elapsed": 48110,
     "user": {
      "displayName": "Daniel Paysan",
      "photoUrl": "https://lh4.googleusercontent.com/-HjRiH1Pwbu0/AAAAAAAAAAI/AAAAAAAAAA8/hD4qoVYmxLY/s64/photo.jpg",
      "userId": "00174475314057917185"
     }
    },
    "colab": {
     "base_uri": "https://localhost:8080/",
     "height": 224
    }
   },
   "source": [
    "data = load_wine()\n",
    "\n",
    "# The data is converted into a pandas dataframe.\n",
    "\n",
    "data = pd.DataFrame(data= np.c_[data['data'], data['target']],\n",
    "                     columns= data['feature_names'] + ['target'])\n",
    "data.head()"
   ],
   "execution_count": 0,
   "outputs": []
  },
  {
   "cell_type": "markdown",
   "metadata": {
    "id": "jTDvKC0MJ1PM",
    "colab_type": "text"
   },
   "source": [
    "We now construct a heatmap displaying the pearson correlation coefficient of the individual features to get an idea of possibly highly-correlated and hence somewhat redundant features."
   ]
  },
  {
   "cell_type": "code",
   "metadata": {
    "id": "eLN1j0AEKAVx",
    "colab_type": "code",
    "outputId": "7c285d10-24fc-47a4-8905-a72b057f74ec",
    "executionInfo": {
     "status": "ok",
     "timestamp": 1551105597113,
     "user_tz": -60,
     "elapsed": 49568,
     "user": {
      "displayName": "Daniel Paysan",
      "photoUrl": "https://lh4.googleusercontent.com/-HjRiH1Pwbu0/AAAAAAAAAAI/AAAAAAAAAA8/hD4qoVYmxLY/s64/photo.jpg",
      "userId": "00174475314057917185"
     }
    },
    "colab": {
     "base_uri": "https://localhost:8080/",
     "height": 554
    }
   },
   "source": [
    "features = data.iloc[:, :-1]\n",
    "f, ax = plt.subplots(figsize=(10, 8))\n",
    "ax.set_title(\"Heatmap of the correlation structure\")\n",
    "corr = features.corr()\n",
    "sn.heatmap(\n",
    "    corr,\n",
    "    mask=np.zeros_like(corr, dtype=np.bool),\n",
    "    cmap=sn.diverging_palette(220, 10, as_cmap=True),\n",
    "    square=True,\n",
    "    ax=ax)\n",
    "plt.subplots_adjust(bottom=0.25)\n",
    "plt.show()"
   ],
   "execution_count": 0,
   "outputs": []
  },
  {
   "cell_type": "markdown",
   "metadata": {
    "id": "iIpjhT3gNHKf",
    "colab_type": "text"
   },
   "source": [
    "If one in contrast is interested in the distribution of a certain feature often a histogram is helpful. Let us now inspect a histogram of the alcohol feature exemplary."
   ]
  },
  {
   "cell_type": "code",
   "metadata": {
    "id": "SxUY4VDWLY1G",
    "colab_type": "code",
    "outputId": "58f0d80c-5455-4d32-f824-88d897e0fa81",
    "executionInfo": {
     "status": "ok",
     "timestamp": 1551105597115,
     "user_tz": -60,
     "elapsed": 49536,
     "user": {
      "displayName": "Daniel Paysan",
      "photoUrl": "https://lh4.googleusercontent.com/-HjRiH1Pwbu0/AAAAAAAAAAI/AAAAAAAAAA8/hD4qoVYmxLY/s64/photo.jpg",
      "userId": "00174475314057917185"
     }
    },
    "colab": {
     "base_uri": "https://localhost:8080/",
     "height": 375
    }
   },
   "source": [
    "alcohol = features[\"alcohol\"]\n",
    "n, bins, patches = plt.hist(alcohol, 20, density=True, facecolor='b')\n",
    "\n",
    "\n",
    "plt.xlabel('Promille')\n",
    "plt.ylabel('Probability')\n",
    "plt.title('Histogram of alcohol')\n",
    "plt.grid(True)\n",
    "plt.show()"
   ],
   "execution_count": 0,
   "outputs": []
  },
  {
   "cell_type": "markdown",
   "metadata": {
    "colab_type": "text",
    "id": "c5Y9wt7ATFOi"
   },
   "source": [
    ""
   ]
  },
  {
   "cell_type": "markdown",
   "metadata": {
    "id": "JL9gOXj9O3Ns",
    "colab_type": "text"
   },
   "source": [
    "For some use cases it might be useful to plot one feature against another. This can be easily doable as shown by the following example. Note that the output is non-informative as such plots only make sense for e.g. time-series data."
   ]
  },
  {
   "cell_type": "code",
   "metadata": {
    "id": "yISwGiPnPJHt",
    "colab_type": "code",
    "outputId": "ad958925-756b-4d1b-9a67-0fab52df7824",
    "executionInfo": {
     "status": "ok",
     "timestamp": 1551105599356,
     "user_tz": -60,
     "elapsed": 51763,
     "user": {
      "displayName": "Daniel Paysan",
      "photoUrl": "https://lh4.googleusercontent.com/-HjRiH1Pwbu0/AAAAAAAAAAI/AAAAAAAAAA8/hD4qoVYmxLY/s64/photo.jpg",
      "userId": "00174475314057917185"
     }
    },
    "colab": {
     "base_uri": "https://localhost:8080/",
     "height": 375
    }
   },
   "source": [
    "ash = features[\"ash\"]\n",
    "\n",
    "plt.plot(alcohol, ash)\n",
    "plt.plot()\n",
    "\n",
    "plt.xlabel(\"alcohol\")\n",
    "plt.ylabel(\"ash\")\n",
    "plt.title(\"Ash values plotted against the alcohol values\")\n",
    "plt.show()"
   ],
   "execution_count": 0,
   "outputs": []
  },
  {
   "cell_type": "markdown",
   "metadata": {
    "id": "dLu9ZfVnPyRh",
    "colab_type": "text"
   },
   "source": [
    "---\n",
    "### Model Fitting and Scoring\n",
    "\n",
    "Hereinafter we will birefly show by an example how to use the data in the form of a pandas dataframe to fit Machine learning models. In this case we will use the Support Vector Machine Classifier from the sklearn library to do so."
   ]
  },
  {
   "cell_type": "code",
   "metadata": {
    "id": "bTOyIM-hQf0y",
    "colab_type": "code",
    "outputId": "89d557a3-a125-4f00-e2dc-77c639023763",
    "executionInfo": {
     "status": "ok",
     "timestamp": 1551105599358,
     "user_tz": -60,
     "elapsed": 51755,
     "user": {
      "displayName": "Daniel Paysan",
      "photoUrl": "https://lh4.googleusercontent.com/-HjRiH1Pwbu0/AAAAAAAAAAI/AAAAAAAAAA8/hD4qoVYmxLY/s64/photo.jpg",
      "userId": "00174475314057917185"
     }
    },
    "colab": {
     "base_uri": "https://localhost:8080/",
     "height": 34
    }
   },
   "source": [
    "labels = data[\"target\"]\n",
    "\n",
    "clf =  make_pipeline(preprocessing.StandardScaler(), svm.SVC(C=1))\n",
    "cross_val_score(clf, features, labels, cv=5)\n",
    "\n"
   ],
   "execution_count": 0,
   "outputs": []
  },
  {
   "cell_type": "markdown",
   "metadata": {
    "id": "IZIdTg1AUkPU",
    "colab_type": "text"
   },
   "source": [
    "While this enable us to get a performance estimate using a KFold cross validation it would be more handy to test a number of different specifications and get the cv scores for all of those. To this end we can use the GridSearchCV method from sklearn. The following example shows how it can be used."
   ]
  },
  {
   "cell_type": "code",
   "metadata": {
    "id": "Bp3j_m06VPCd",
    "colab_type": "code",
    "outputId": "ebf5b745-ccbd-4c52-c256-4367b0395a0a",
    "executionInfo": {
     "status": "ok",
     "timestamp": 1551105599359,
     "user_tz": -60,
     "elapsed": 51736,
     "user": {
      "displayName": "Daniel Paysan",
      "photoUrl": "https://lh4.googleusercontent.com/-HjRiH1Pwbu0/AAAAAAAAAAI/AAAAAAAAAA8/hD4qoVYmxLY/s64/photo.jpg",
      "userId": "00174475314057917185"
     }
    },
    "colab": {
     "base_uri": "https://localhost:8080/",
     "height": 207
    }
   },
   "source": [
    "#Set pipeline\n",
    "SC = preprocessing.StandardScaler()\n",
    "SVC = svm.SVC()\n",
    "pip = Pipeline(steps=[('SC', SC), ('SVC', SVC)])\n",
    "\n",
    "#Define GridSearch parameter\n",
    "param_dict = {'SVC__kernel':['linear', 'rbf'], \n",
    "              'SVC__C':[1, 10]}\n",
    "\n",
    "# Run GridSearch\n",
    "clf = GridSearchCV(pip, param_dict, cv=3)\n",
    "clf.fit(features, labels)\n",
    "\n",
    "print('Mean CV test score: ')\n",
    "print(clf.cv_results_['mean_test_score'])\n",
    "print(' ')\n",
    "print('Std CV test score: ')\n",
    "print(clf.cv_results_['std_test_score'])\n",
    "print(' ')\n",
    "print('Best estimator parameter: ')\n",
    "print(clf.best_params_)"
   ],
   "execution_count": 0,
   "outputs": []
  },
  {
   "cell_type": "markdown",
   "metadata": {
    "id": "03aORSaVU3lm",
    "colab_type": "text"
   },
   "source": [
    "While selecting the best parameter one should be careful with the interpretation of the reported scores. Note that the CV score usually is biased towards being pessimistic as the model is not trained on the full training data set at each fold. However, the mean cv test score should never be considered the associated standard error of the results to avoid overfitting.\n",
    "\n",
    "---\n",
    "## Project 0\n",
    "\n",
    "The following section solves the project 0 of the Introduction to Machine Learning course 2019. It is assumed that the environment is set and the train and test data is already loaded.\n",
    "\n",
    "---\n",
    "\n",
    "### Formatting the data\n",
    "\n",
    "Although the data is loaded we format it to have it in the handy pandas dataframe format."
   ]
  },
  {
   "cell_type": "code",
   "metadata": {
    "id": "zFhCErVRWFZA",
    "colab_type": "code",
    "outputId": "fbe3c4a3-2ca8-4f7a-d5b0-51942c60dee9",
    "executionInfo": {
     "status": "ok",
     "timestamp": 1551105599361,
     "user_tz": -60,
     "elapsed": 51727,
     "user": {
      "displayName": "Daniel Paysan",
      "photoUrl": "https://lh4.googleusercontent.com/-HjRiH1Pwbu0/AAAAAAAAAAI/AAAAAAAAAA8/hD4qoVYmxLY/s64/photo.jpg",
      "userId": "00174475314057917185"
     }
    },
    "colab": {
     "base_uri": "https://localhost:8080/",
     "height": 235
    }
   },
   "source": [
    "# Get train data\n",
    "train = pd.read_csv('train.csv', index_col=0)\n",
    "train.head()"
   ],
   "execution_count": 0,
   "outputs": []
  },
  {
   "cell_type": "code",
   "metadata": {
    "id": "u1I0RhruXV1m",
    "colab_type": "code",
    "outputId": "db5c1de9-d0ea-4d77-8cf7-80df83e106ed",
    "executionInfo": {
     "status": "ok",
     "timestamp": 1551105599362,
     "user_tz": -60,
     "elapsed": 51708,
     "user": {
      "displayName": "Daniel Paysan",
      "photoUrl": "https://lh4.googleusercontent.com/-HjRiH1Pwbu0/AAAAAAAAAAI/AAAAAAAAAA8/hD4qoVYmxLY/s64/photo.jpg",
      "userId": "00174475314057917185"
     }
    },
    "colab": {
     "base_uri": "https://localhost:8080/",
     "height": 235
    }
   },
   "source": [
    "# Get test data for which predictions should be made\n",
    "test = pd.read_csv('test.csv', index_col=0)\n",
    "test.head()"
   ],
   "execution_count": 0,
   "outputs": []
  },
  {
   "cell_type": "code",
   "metadata": {
    "id": "Jlb-PJ3iXe0F",
    "colab_type": "code",
    "outputId": "a0768592-6f96-4610-8d75-4b37bb7e660c",
    "executionInfo": {
     "status": "ok",
     "timestamp": 1551105599363,
     "user_tz": -60,
     "elapsed": 51682,
     "user": {
      "displayName": "Daniel Paysan",
      "photoUrl": "https://lh4.googleusercontent.com/-HjRiH1Pwbu0/AAAAAAAAAAI/AAAAAAAAAA8/hD4qoVYmxLY/s64/photo.jpg",
      "userId": "00174475314057917185"
     }
    },
    "colab": {
     "base_uri": "https://localhost:8080/",
     "height": 235
    }
   },
   "source": [
    "'''\n",
    "Get sample prediction file format.\n",
    "Sample predictions will be simply replaced with the ones obtained from the\n",
    "custom model.\n",
    "''' \n",
    "\n",
    "submission = pd.read_csv('sample.csv', index_col=0)\n",
    "submission.head()"
   ],
   "execution_count": 0,
   "outputs": []
  },
  {
   "cell_type": "code",
   "metadata": {
    "id": "S7kMpKNeZRfn",
    "colab_type": "code",
    "colab": {}
   },
   "source": [
    "X_train = train.iloc[:, 1:]\n",
    "y_train = train.iloc[:, 0]\n",
    "\n",
    "X_test = test"
   ],
   "execution_count": 0,
   "outputs": []
  },
  {
   "cell_type": "markdown",
   "metadata": {
    "id": "kxG9bMqSX-uM",
    "colab_type": "text"
   },
   "source": [
    "----\n",
    "\n",
    "### EDA\n",
    "\n",
    "Since this problem is a regression problem for simplicity we will use a linear regression model. Because of the invariance of that model to the scale of the data, we do not to standardize it. The fact, that we have only 10 features also does not require much feature reduction. Nonetheless we inspect the data first for multicollinearity."
   ]
  },
  {
   "cell_type": "code",
   "metadata": {
    "id": "CGRSurV8Yo08",
    "colab_type": "code",
    "outputId": "62a09dc8-d97a-4186-9341-64410731d730",
    "executionInfo": {
     "status": "ok",
     "timestamp": 1551105599367,
     "user_tz": -60,
     "elapsed": 51644,
     "user": {
      "displayName": "Daniel Paysan",
      "photoUrl": "https://lh4.googleusercontent.com/-HjRiH1Pwbu0/AAAAAAAAAAI/AAAAAAAAAA8/hD4qoVYmxLY/s64/photo.jpg",
      "userId": "00174475314057917185"
     }
    },
    "colab": {
     "base_uri": "https://localhost:8080/",
     "height": 442
    }
   },
   "source": [
    "corr = X_train.corr()\n",
    "print(X_train.shape)\n",
    "\n",
    "f, ax = plt.subplots(figsize=(10, 8))\n",
    "ax.set_title(\"Heatmap of the correlation structure\")\n",
    "sn.heatmap(\n",
    "    corr,\n",
    "    mask=np.zeros_like(corr, dtype=np.bool),\n",
    "    cmap=sn.diverging_palette(220, 10, as_cmap=True),\n",
    "    square=True,\n",
    "    ax=ax)\n",
    "plt.subplots_adjust(bottom=0.25)\n",
    "plt.show()"
   ],
   "execution_count": 0,
   "outputs": []
  },
  {
   "cell_type": "markdown",
   "metadata": {
    "id": "WOKrUt4dZYYt",
    "colab_type": "text"
   },
   "source": [
    "We see that the features are completely uncorrelated. Hence we should consider all of them recalling the fact that we have only 10 features for 10'000 samples.\n",
    "\n",
    "---\n",
    "\n",
    "### Model Fitting and Selection"
   ]
  },
  {
   "cell_type": "code",
   "metadata": {
    "id": "hbnxpvhVY4mk",
    "colab_type": "code",
    "outputId": "d931443b-e08e-4ff0-f913-72219dc0f5ab",
    "executionInfo": {
     "status": "ok",
     "timestamp": 1551105599368,
     "user_tz": -60,
     "elapsed": 51633,
     "user": {
      "displayName": "Daniel Paysan",
      "photoUrl": "https://lh4.googleusercontent.com/-HjRiH1Pwbu0/AAAAAAAAAAI/AAAAAAAAAA8/hD4qoVYmxLY/s64/photo.jpg",
      "userId": "00174475314057917185"
     }
    },
    "colab": {
     "base_uri": "https://localhost:8080/",
     "height": 153
    }
   },
   "source": [
    "#Set pipeline\n",
    "LR = LinearRegression()\n",
    "pip = Pipeline(steps=[('LR', LR)])\n",
    "\n",
    "#Define GridSearch parameter\n",
    "param_dict = {'LR__normalize':[False, True]}\n",
    "\n",
    "# Run GridSearch\n",
    "clf = GridSearchCV(pip, param_dict, cv=8)\n",
    "clf.fit(X_train, y_train)\n",
    "\n",
    "print('Mean CV test score: ')\n",
    "print(clf.cv_results_['mean_test_score'])\n",
    "print(' ')\n",
    "print('Std CV test score: ')\n",
    "print(clf.cv_results_['std_test_score'])\n",
    "print(' ')\n",
    "print('Best estimator parameter: ')\n",
    "print(clf.best_params_)"
   ],
   "execution_count": 0,
   "outputs": []
  },
  {
   "cell_type": "markdown",
   "metadata": {
    "id": "iayXrvcqamfe",
    "colab_type": "text"
   },
   "source": [
    "The results look very promosing. Let us inspect the coefficients quickly."
   ]
  },
  {
   "cell_type": "code",
   "metadata": {
    "id": "TXi3r_LSatd-",
    "colab_type": "code",
    "outputId": "61072dbc-b3a1-40fa-88de-545724852541",
    "executionInfo": {
     "status": "ok",
     "timestamp": 1551105599369,
     "user_tz": -60,
     "elapsed": 51624,
     "user": {
      "displayName": "Daniel Paysan",
      "photoUrl": "https://lh4.googleusercontent.com/-HjRiH1Pwbu0/AAAAAAAAAAI/AAAAAAAAAA8/hD4qoVYmxLY/s64/photo.jpg",
      "userId": "00174475314057917185"
     }
    },
    "colab": {
     "base_uri": "https://localhost:8080/",
     "height": 34
    }
   },
   "source": [
    "fitted_pip = clf.best_estimator_\n",
    "fitted_pip.named_steps['LR'].coef_"
   ],
   "execution_count": 0,
   "outputs": []
  },
  {
   "cell_type": "markdown",
   "metadata": {
    "id": "UtZJQsJOcEmj",
    "colab_type": "text"
   },
   "source": [
    "Seems like the label for the artificial data set was simply constructed by taking the average of the 10 predictors.\n",
    "\n",
    "---\n",
    "\n",
    "### Predictions\n",
    "\n",
    "We will now use the fitted model to get the predictions for our test set.\n"
   ]
  },
  {
   "cell_type": "code",
   "metadata": {
    "id": "7DWdmuTccTdn",
    "colab_type": "code",
    "outputId": "d917e278-00c1-47ad-dbfc-9e1848d5a4cf",
    "executionInfo": {
     "status": "ok",
     "timestamp": 1551105599370,
     "user_tz": -60,
     "elapsed": 51614,
     "user": {
      "displayName": "Daniel Paysan",
      "photoUrl": "https://lh4.googleusercontent.com/-HjRiH1Pwbu0/AAAAAAAAAAI/AAAAAAAAAA8/hD4qoVYmxLY/s64/photo.jpg",
      "userId": "00174475314057917185"
     }
    },
    "colab": {
     "base_uri": "https://localhost:8080/",
     "height": 235
    }
   },
   "source": [
    "y_pred = fitted_pip.predict(X_test)\n",
    "\n",
    "submission['y'] = y_pred\n",
    "submission.head()"
   ],
   "execution_count": 0,
   "outputs": []
  },
  {
   "cell_type": "markdown",
   "metadata": {
    "id": "wD_P3gKvc9NG",
    "colab_type": "text"
   },
   "source": [
    "---\n",
    "\n",
    "## Export data\n",
    "\n",
    "We hereinafter provide the possibility to export dataframe that are defined in the current environment to csv and download the respective file."
   ]
  },
  {
   "cell_type": "code",
   "metadata": {
    "id": "WNhRwnu7djcg",
    "colab_type": "code",
    "colab": {}
   },
   "source": [
    "from google.colab import files\n",
    "\n",
    "ts = str(datetime.datetime.utcnow())\n",
    "ts = ts.replace(' ', '_')\n",
    "fname = 'y_pred_'+ts+'.csv'\n",
    "\n",
    "with open(fname, 'w') as f:\n",
    "  submission.to_csv(f, float_format='%.90f')\n",
    "\n",
    "files.download(fname)"
   ],
   "execution_count": 0,
   "outputs": []
  },
  {
   "cell_type": "code",
   "metadata": {
    "id": "vZX1RdupeP70",
    "colab_type": "code",
    "colab": {}
   },
   "source": [
    "\n"
   ],
   "execution_count": 0,
   "outputs": []
  }
 ]
}